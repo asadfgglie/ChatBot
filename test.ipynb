{
 "cells": [
  {
   "cell_type": "code",
   "execution_count": null,
   "metadata": {},
   "outputs": [],
   "source": [
    "from transformers import OpenAIGPTLMHeadModel, GPT2LMHeadModel, BertTokenizer\n",
    "model = OpenAIGPTLMHeadModel.from_pretrained(\"thu-coai/CDial-GPT_LCCC-large\",ignore_mismatched_sizes=True)"
   ]
  }
 ],
 "metadata": {
  "kernelspec": {
   "display_name": "Python 3",
   "language": "python",
   "name": "python3"
  },
  "language_info": {
   "codemirror_mode": {
    "name": "ipython",
    "version": 3
   },
   "file_extension": ".py",
   "mimetype": "text/x-python",
   "name": "python",
   "nbconvert_exporter": "python",
   "pygments_lexer": "ipython3",
   "version": "3.9.16"
  },
  "orig_nbformat": 4,
  "vscode": {
   "interpreter": {
    "hash": "6effec126ee2855b34f08a687b2d6b94cd3e41f804cf6a09ac676ca926f2ce1c"
   }
  }
 },
 "nbformat": 4,
 "nbformat_minor": 2
}
